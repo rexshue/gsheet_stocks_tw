{
 "cells": [
  {
   "cell_type": "code",
   "execution_count": 2,
   "metadata": {},
   "outputs": [],
   "source": [
    "from bs4 import BeautifulSoup\n",
    "import requests\n",
    "import sys\n",
    "import io\n",
    "import tempfile\n",
    "import time\n",
    "\n",
    "def get_stock_dividend(no):\n",
    "    url ='https://tw.stock.yahoo.com/d/s/dividend_' + str(no) +'.html'\n",
    "    req = requests.get(url, timeout=5, allow_redirects=True)\n",
    "    tmpName = tempfile.gettempdir() + '\\\\t2.html'\n",
    "    open(tmpName, 'wb').write(req.content)\n",
    "    results=[]\n",
    "    with io.open(tmpName,'r') as f:\n",
    "        content = f.read()\n",
    "        soup = BeautifulSoup(content, 'lxml')\n",
    "        trs = soup.find_all('tr', {'bgcolor':'#FFFFFF'})\n",
    "        for tr in trs:\n",
    "            tds = tr.find_all('td')\n",
    "            result=[]\n",
    "            for td in tds:\n",
    "                result.append(float(td.text))\n",
    "            results.append(result)\n",
    "    return results\n",
    "\n",
    "def get_stock_price(no):\n",
    "    url ='https://tw.stock.yahoo.com/q/ts?s='+str(no)\n",
    "    req = requests.get(url, timeout=5, allow_redirects=True)\n",
    "    tmpName = tempfile.gettempdir() + '\\\\t'+ no + '.html'\n",
    "    open(tmpName,'wb').write(req.content)\n",
    "    result=0.0\n",
    "    with io.open(tmpName,'r') as f:\n",
    "        content = f.read()\n",
    "        soup = BeautifulSoup(content, 'lxml')\n",
    "        trs = soup.find_all('tr', {'bgcolor':'#ffffff'})\n",
    "        tds = trs[0].find_all('td')\n",
    "        if len(tds) > 3 :\n",
    "            result= float(tds[3].text)\n",
    "    return result;"
   ]
  },
  {
   "cell_type": "code",
   "execution_count": 3,
   "metadata": {},
   "outputs": [
    {
     "name": "stdout",
     "output_type": "stream",
     "text": [
      "Get Price\n",
      "\n",
      "1101,1210,1215,1216,1227,1229,1231,1232,1234,1307,1513,1712,1717,1773,2105,2108,2317,2330,2412,2596,2616,2701,2801,2812,2820,2834,2845,2880,2881,2882,2883,2884,2885,2886,2887,2888,2889,2890,2891,2892,2912,4711,5438,5880,6136,6151,6183,6189,6216,6281,6803,8926,9905,9927,9939,3045,4904,5530,5519,2838,Bye!\n",
      "\n"
     ]
    }
   ],
   "source": [
    "import gspread\n",
    "from oauth2client.service_account import ServiceAccountCredentials\n",
    "import time\n",
    "import sys\n",
    "\n",
    "def auth_gss_client(path, scopes):\n",
    "    credentials = ServiceAccountCredentials.from_json_keyfile_name(path, scopes)\n",
    "    return gspread.authorize(credentials)\n",
    "\n",
    "def get_sheet_value(sheet, row, col):\n",
    "    time.sleep(1.1)\n",
    "    return sheet.cell(row,col).value\n",
    "\n",
    "def set_sheet_value(sheet, row, col, value):\n",
    "    time.sleep(1.1)\n",
    "    sheet.update_cell(row,col,value)\n",
    "\n",
    "def set_sheet_values(sheet, row, col, values):\n",
    "    alpha='ABCDEFGHIJKLMNOPQRSTUVWXYZ'\n",
    "    preA=alpha[col-1]+str(row)\n",
    "    m=col+len(values)-2\n",
    "    j=m/len(alpha)\n",
    "    k=m%len(alpha)\n",
    "    if j>0:\n",
    "        preB=alpha[j-1]+alpha[k]+str(row)\n",
    "    else:\n",
    "        preB=alpha[col+len(values)-2]+str(row)\n",
    "    label=preA+':'+preB\n",
    "    cell_list=sheet.range(label)\n",
    "    for c,v in zip(cell_list, values):\n",
    "        c.value = v\n",
    "    time.sleep(1.1)\n",
    "    sheet.update_cells(cell_list)\n",
    "\n",
    "def update_divident(no,rows):\n",
    "    results = get_stock_dividend(no)\n",
    "    colIndex = 14\n",
    "    cell_value = []\n",
    "    for result in results:\n",
    "        cell_value.append(result[1])\n",
    "        cell_value.append(result[2])\n",
    "    set_sheet_values(wks.sheet1,rows,colIndex, cell_value)\n",
    "\n",
    "auth_json_path = 'auth.json'\n",
    "gss_scopes = ['https://spreadsheets.google.com/feeds']\n",
    "\n",
    "gss_client = auth_gss_client(auth_json_path, gss_scopes)\n",
    "s_key=open('spreadsheet_key','r').read()\n",
    "\n",
    "wks = gss_client.open_by_key(s_key)\n",
    "stockNo = 1\n",
    "lineIndex = 2\n",
    "run = True\n",
    "print('Get Price\\n')\n",
    "while run:\n",
    "    stockNo = get_sheet_value(wks.sheet1, lineIndex ,1)\n",
    "    if stockNo != '':\n",
    "        sys.stdout.write(str(stockNo)+',')\n",
    "        set_sheet_value(wks.sheet1, lineIndex, 3, get_stock_price(stockNo))\n",
    "        divValue = get_sheet_value(wks.sheet1, lineIndex, 14)\n",
    "        if divValue == '':\n",
    "            update_divident(stockNo, lineIndex)\n",
    "        time.sleep(1)\n",
    "        lineIndex += 1\n",
    "    else:\n",
    "        print('Bye!\\n')\n",
    "        run = False"
   ]
  },
  {
   "cell_type": "code",
   "execution_count": 10,
   "metadata": {},
   "outputs": [
    {
     "name": "stdout",
     "output_type": "stream",
     "text": [
      "[<tr align=\"center\" bgcolor=\"#ffffff\"><td colspan=\"6\"><br/>\\u672c\\u65e5\\u5c1a\\u7121\\u6210\\u4ea4\\u660e\\u7d30<br/><br/></td></tr>, <tr align=\"center\" bgcolor=\"#ffffff\"><td><br/>\\u672c\\u65e5\\u5c1a\\u7121\\u91cf\\u50f9\\u8b8a\\u5316\\u5716<br/><br/></td></tr>]\n",
      "0.0\n"
     ]
    }
   ],
   "source": [
    "from bs4 import BeautifulSoup\n",
    "import requests\n",
    "import io\n",
    "import tempfile\n",
    "\n",
    "def get_stock_priceDebug(no):\n",
    "    tmpName = tempfile.gettempdir() + '\\\\t'+ no + '.html'\n",
    "    result=0.0\n",
    "    with io.open(tmpName,'r') as f:\n",
    "        content = f.read()\n",
    "        soup = BeautifulSoup(content, 'lxml')\n",
    "        trs = soup.find_all('tr', {'bgcolor':'#ffffff'})\n",
    "        tds = trs[0].find_all('td')\n",
    "        print(trs)\n",
    "        if len(tds) > 3 :\n",
    "            result= float(tds[3].text)\n",
    "    return result;\n",
    "\n",
    "print(get_stock_priceDebug('2317'))"
   ]
  },
  {
   "cell_type": "markdown",
   "metadata": {},
   "source": [
    "sheetfu"
   ]
  },
  {
   "cell_type": "code",
   "execution_count": 16,
   "metadata": {},
   "outputs": [
    {
     "name": "stdout",
     "output_type": "stream",
     "text": [
      "<Range object A1:I3>\n",
      "[[1, 2, 3, 4, 5, 6, 7, 8, 9], [1, 2, 3, 4, 5, 6, 7, 8, 9], [666, 2, 3, 4, 5, 6, 7, 8, 9]]\n"
     ]
    }
   ],
   "source": [
    "from sheetfu import SpreadsheetApp\n",
    "\n",
    "spreadsheet_key = open('spreadsheet_dbg_key','r').read()\n",
    "spreadsheet = SpreadsheetApp('auth.json').open_by_id(spreadsheet_key)\n",
    "sheet = spreadsheet.get_sheet_by_name('Sheet1')\n",
    "data_range = sheet.get_data_range()\n",
    "\n",
    "values = data_range.get_values()\n",
    "#backgrounds = data_range.get_backgrounds()\n",
    "\n",
    "print(data_range)\n",
    "print(values)"
   ]
  },
  {
   "cell_type": "code",
   "execution_count": null,
   "metadata": {},
   "outputs": [],
   "source": []
  }
 ],
 "metadata": {
  "kernelspec": {
   "display_name": "Python 2",
   "language": "python",
   "name": "python2"
  },
  "language_info": {
   "codemirror_mode": {
    "name": "ipython",
    "version": 2
   },
   "file_extension": ".py",
   "mimetype": "text/x-python",
   "name": "python",
   "nbconvert_exporter": "python",
   "pygments_lexer": "ipython2",
   "version": "2.7.15"
  }
 },
 "nbformat": 4,
 "nbformat_minor": 2
}

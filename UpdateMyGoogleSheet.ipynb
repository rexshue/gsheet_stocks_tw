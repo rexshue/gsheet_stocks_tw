{
 "cells": [
  {
   "cell_type": "code",
   "execution_count": 1,
   "metadata": {},
   "outputs": [
    {
     "name": "stdout",
     "output_type": "stream",
     "text": [
      "Get Price\n",
      "\n",
      "1101,1210,1215,1216,1227,1229,1231,1232,1234,1307,1513,1712,1717,1773,2105,2108,2301,2317,2324,2330,2347,2412,2596,2616,2701,2801,2812,2820,2834,2838,2845,2880,2881,2882,2883,2884,2885,2886,2887,2888,2889,2890,2891,2892,2905,2912,3028,3045,3702,4711,4904,5438,5519,5880,6136,6151,6183,6189,6216,6218,6281,6803,8422,8926,9905,9927,9939,5312,2535,5410,1904,1907,5522,8905,2065,2546,5511,6186,2542,Bye!\n",
      "\n"
     ]
    }
   ],
   "source": [
    "from bs4 import BeautifulSoup\n",
    "import requests\n",
    "import sys\n",
    "import io\n",
    "import tempfile\n",
    "import time\n",
    "\n",
    "#取得股利資訊\n",
    "def get_stock_dividend(no):\n",
    "    url ='https://tw.stock.yahoo.com/d/s/dividend_' + str(no) +'.html'\n",
    "    req = requests.get(url, timeout=5, allow_redirects=True)\n",
    "    tmpName = tempfile.gettempdir() + '\\\\t2.html'\n",
    "    open(tmpName, 'wb').write(req.content)\n",
    "    results=[]\n",
    "    with io.open(tmpName,'r') as f:\n",
    "        content = f.read()\n",
    "        soup = BeautifulSoup(content, 'lxml')\n",
    "        trs = soup.find_all('tr', {'bgcolor':'#FFFFFF'})\n",
    "        for tr in trs:\n",
    "            tds = tr.find_all('td')\n",
    "            result=[]\n",
    "            for td in tds:\n",
    "                result.append(float(td.text))\n",
    "            results.append(result)\n",
    "    return results\n",
    "\n",
    "#取得股價\n",
    "def get_stock_price(no):\n",
    "    url ='https://tw.stock.yahoo.com/q/ts?s='+str(no)\n",
    "    req = requests.get(url, timeout=5, allow_redirects=True)\n",
    "    tmpName = tempfile.gettempdir() + '\\\\t'+ no + '.html'\n",
    "    open(tmpName,'wb').write(req.content)\n",
    "    result=0.0\n",
    "    with io.open(tmpName,'r') as f:\n",
    "        content = f.read()\n",
    "        soup = BeautifulSoup(content, 'lxml')\n",
    "        trs = soup.find_all('tr', {'bgcolor':'#ffffff'})\n",
    "        if len(trs) > 0:\n",
    "            tds = trs[0].find_all('td')\n",
    "            if len(tds) > 3 :\n",
    "                result= float(tds[3].text)\n",
    "            else:\n",
    "                sys.stdout.write('v')\n",
    "        else:\n",
    "            sys.stdout.write('z')\n",
    "    return result;\n",
    "\n",
    "import gspread\n",
    "from oauth2client.service_account import ServiceAccountCredentials\n",
    "import time\n",
    "import sys\n",
    "\n",
    "def auth_gss_client(path, scopes):\n",
    "    credentials = ServiceAccountCredentials.from_json_keyfile_name(path, scopes)\n",
    "    return gspread.authorize(credentials)\n",
    "\n",
    "def get_sheet_value(sheet, row, col):\n",
    "    time.sleep(1.1)\n",
    "    return sheet.cell(row,col).value\n",
    "\n",
    "def set_sheet_value(sheet, row, col, value):\n",
    "    time.sleep(1.1)\n",
    "    sheet.update_cell(row,col,value)\n",
    "\n",
    "def set_sheet_values(sheet, row, col, values):\n",
    "    alpha='ABCDEFGHIJKLMNOPQRSTUVWXYZ'\n",
    "    preA=alpha[col-1]+str(row)\n",
    "    m=col+len(values)-2\n",
    "    j=m/len(alpha)\n",
    "    k=m%len(alpha)\n",
    "    if j>0:\n",
    "        preB=alpha[j-1]+alpha[k]+str(row)\n",
    "    else:\n",
    "        preB=alpha[col+len(values)-2]+str(row)\n",
    "    label=preA+':'+preB\n",
    "    cell_list=sheet.range(label)\n",
    "    for c,v in zip(cell_list, values):\n",
    "        c.value = v\n",
    "    time.sleep(1.1)\n",
    "    sheet.update_cells(cell_list)\n",
    "\n",
    "def update_divident(no,rows):\n",
    "    results = get_stock_dividend(no)\n",
    "    colIndex = 14\n",
    "    cell_value = []\n",
    "    for result in results:\n",
    "        cell_value.append(result[1])\n",
    "        cell_value.append(result[2])\n",
    "        \n",
    "    tmpVal = get_sheet_value(wks.sheet1, rows ,colIndex)\n",
    "    if((len(cell_value) > 0) and (tmpVal != cell_value[0])):\n",
    "        set_sheet_values(wks.sheet1,rows,colIndex, cell_value)\n",
    "    else:\n",
    "        sys.stdout.write('x')\n",
    "\n",
    "auth_json_path = 'auth.json'\n",
    "gss_scopes = ['https://spreadsheets.google.com/feeds']\n",
    "\n",
    "gss_client = auth_gss_client(auth_json_path, gss_scopes)\n",
    "s_key=open('spreadsheet_key','r').read()\n",
    "\n",
    "wks = gss_client.open_by_key(s_key)\n",
    "stockNo = 1\n",
    "lineIndex = 2\n",
    "run = True\n",
    "print('Get Price\\n')\n",
    "while run:\n",
    "    stockNo = get_sheet_value(wks.sheet1, lineIndex ,1)\n",
    "    if stockNo != '':\n",
    "        sys.stdout.write(str(stockNo))\n",
    "        set_sheet_value(wks.sheet1, lineIndex, 3, get_stock_price(stockNo))\n",
    "        divValue = get_sheet_value(wks.sheet1, lineIndex, 14)\n",
    "        if divValue != '':\n",
    "            update_divident(stockNo, lineIndex)\n",
    "            \n",
    "        sys.stdout.write(',')\n",
    "        time.sleep(1)\n",
    "        lineIndex += 1\n",
    "    else:\n",
    "        print('Bye!\\n')\n",
    "        run = False"
   ]
  },
  {
   "cell_type": "code",
   "execution_count": 3,
   "metadata": {},
   "outputs": [
    {
     "name": "stdout",
     "output_type": "stream",
     "text": [
      "[<tr align=\"center\" bgcolor=\"#ffffff\" height=\"25\"><td>13:30:00</td><td>77.40</td><td class=\"high\">77.50</td><td>77.40</td><td>\\uff0d</td><td>4401</td></tr>, <tr align=\"center\" bgcolor=\"#ffffff\" height=\"25\"><td>13:24:59</td><td class=\"high\">77.60</td><td class=\"high\">77.70</td><td class=\"high\">77.70</td><td class=\"high\">\\u25b30.3</td><td>1</td></tr>, <tr align=\"center\" bgcolor=\"#ffffff\" height=\"25\"><td>13:24:54</td><td class=\"high\">77.60</td><td class=\"high\">77.70</td><td class=\"high\">77.70</td><td class=\"high\">\\u25b30.3</td><td>1</td></tr>, <tr align=\"center\" bgcolor=\"#ffffff\" height=\"25\"><td>13:24:49</td><td class=\"high\">77.60</td><td class=\"high\">77.70</td><td class=\"high\">77.70</td><td class=\"high\">\\u25b30.3</td><td>1</td></tr>, <tr align=\"center\" bgcolor=\"#ffffff\" height=\"25\"><td>13:24:44</td><td class=\"high\">77.60</td><td class=\"high\">77.70</td><td class=\"high\">77.70</td><td class=\"high\">\\u25b30.3</td><td>2</td></tr>, <tr align=\"center\" bgcolor=\"#ffffff\" height=\"25\"><td>13:24:39</td><td class=\"high\">77.60</td><td class=\"high\">77.70</td><td class=\"high\">77.70</td><td class=\"high\">\\u25b30.3</td><td>2</td></tr>, <tr align=\"center\" bgcolor=\"#ffffff\" height=\"25\"><td>13:24:29</td><td class=\"high\">77.60</td><td class=\"high\">77.70</td><td class=\"high\">77.60</td><td class=\"high\">\\u25b30.2</td><td>49</td></tr>, <tr align=\"center\" bgcolor=\"#ffffff\" height=\"25\"><td>13:24:24</td><td class=\"high\">77.60</td><td class=\"high\">77.70</td><td class=\"high\">77.70</td><td class=\"high\">\\u25b30.3</td><td>20</td></tr>, <tr align=\"center\" bgcolor=\"#ffffff\" height=\"25\"><td>13:24:19</td><td class=\"high\">77.60</td><td class=\"high\">77.70</td><td class=\"high\">77.70</td><td class=\"high\">\\u25b30.3</td><td>3</td></tr>, <tr align=\"center\" bgcolor=\"#ffffff\"><td height=\"26\"><script> var data=[['78.00', 629],['77.90', 338],['77.80', 1385],['77.70', 5832],['77.60', 3868],['77.50', 1135],['77.40', 4494]]; var idx=6; var max=6706.799999999999; document.write('<table border=\"0\" width=\"500\" style=\"border-collapse=collapse;\"><tr><td style=\"font-weight: 18px; text-align: center\"><b>\\u9d3b\\u6d77(2317) 108/06/28 14:30</b></td></tr><tr><td>'); for (var i=0; i < data.length; i++){\\tvar widthBar=90*data[i][1]/max; var widthVol=90-widthBar; var color=idx==i?'#F56A00':'#3872B5'; var s='<table border=\"0\" width=\"100%\">' +'<tr><td width=\"10%\">'+data[i][0]+'</td>' +'<td width=\"'+widthBar+'%\" bgcolor='+color+'></td>' +'<td width=\"'+widthVol+'%\"><font color=\"#DF3F3F\">'+data[i][1]+'</font></td></tr></table>'; document.write(s);} for(var i=data.length;i<10;i++){var s ='<br>'; document.write(s);} document.write('</td></tr></table>'); </script></td></tr>]\n",
      "77.4\n"
     ]
    }
   ],
   "source": [
    "from bs4 import BeautifulSoup\n",
    "import requests\n",
    "import io\n",
    "import tempfile\n",
    "\n",
    "def get_stock_priceDebug(no):\n",
    "    tmpName = tempfile.gettempdir() + '\\\\t'+ no + '.html'\n",
    "    result=0.0\n",
    "    with io.open(tmpName,'r') as f:\n",
    "        content = f.read()\n",
    "        soup = BeautifulSoup(content, 'lxml')\n",
    "        trs = soup.find_all('tr', {'bgcolor':'#ffffff'})\n",
    "        tds = trs[0].find_all('td')\n",
    "        print(trs)\n",
    "        if len(tds) > 3 :\n",
    "            result= float(tds[3].text)\n",
    "    return result;\n",
    "\n",
    "print(get_stock_priceDebug('2317'))"
   ]
  },
  {
   "cell_type": "markdown",
   "metadata": {},
   "source": [
    "sheetfu"
   ]
  },
  {
   "cell_type": "code",
   "execution_count": 16,
   "metadata": {},
   "outputs": [
    {
     "name": "stdout",
     "output_type": "stream",
     "text": [
      "<Range object A1:I3>\n",
      "[[1, 2, 3, 4, 5, 6, 7, 8, 9], [1, 2, 3, 4, 5, 6, 7, 8, 9], [666, 2, 3, 4, 5, 6, 7, 8, 9]]\n"
     ]
    }
   ],
   "source": [
    "from sheetfu import SpreadsheetApp\n",
    "\n",
    "spreadsheet_key = open('spreadsheet_dbg_key','r').read()\n",
    "spreadsheet = SpreadsheetApp('auth.json').open_by_id(spreadsheet_key)\n",
    "sheet = spreadsheet.get_sheet_by_name('Sheet1')\n",
    "data_range = sheet.get_data_range()\n",
    "\n",
    "values = data_range.get_values()\n",
    "#backgrounds = data_range.get_backgrounds()\n",
    "\n",
    "print(data_range)\n",
    "print(values)"
   ]
  },
  {
   "cell_type": "code",
   "execution_count": null,
   "metadata": {},
   "outputs": [],
   "source": []
  }
 ],
 "metadata": {
  "kernelspec": {
   "display_name": "Python 2",
   "language": "python",
   "name": "python2"
  },
  "language_info": {
   "codemirror_mode": {
    "name": "ipython",
    "version": 2
   },
   "file_extension": ".py",
   "mimetype": "text/x-python",
   "name": "python",
   "nbconvert_exporter": "python",
   "pygments_lexer": "ipython2",
   "version": "2.7.15"
  }
 },
 "nbformat": 4,
 "nbformat_minor": 2
}
